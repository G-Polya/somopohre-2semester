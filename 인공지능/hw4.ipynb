{
 "cells": [
  {
   "cell_type": "code",
   "execution_count": 160,
   "metadata": {},
   "outputs": [
    {
     "name": "stdout",
     "output_type": "stream",
     "text": [
      "(4, 9)\n",
      "[[0. 0. 0. 0.]\n",
      " [0. 0. 0. 0.]]\n",
      "input layer x :\n",
      "[[1.    1.    0.    0.    1.    0.    1.    0.    0.   ]\n",
      " [0.85  0.    0.625 0.45  0.225 0.25  0.7   0.3   0.125]\n",
      " [0.76  0.24  0.84  0.96  0.46  0.7   0.44  0.4   0.66 ]\n",
      " [1.    1.    1.    1.    1.    1.    1.    1.    1.   ]]\n",
      "[[0. 0. 0. 0. 0. 0. 0. 0. 0.]\n",
      " [0. 0. 0. 0. 0. 0. 0. 0. 0.]]\n",
      "hidden layer h : \n",
      "[[0.5 0.5 0.5 0.5 0.5 0.5 0.5 0.5 0.5]\n",
      " [0.5 0.5 0.5 0.5 0.5 0.5 0.5 0.5 0.5]\n",
      " [1.  1.  1.  1.  1.  1.  1.  1.  1. ]]\n",
      "(3, 9)\n",
      "[[0.2 0.2 0.2 0.2 0.2 0.2 0.2 0.2 0.2]\n",
      " [0.2 0.2 0.2 0.2 0.2 0.2 0.2 0.2 0.2]]\n",
      "[[0.549834 0.549834 0.549834 0.549834 0.549834 0.549834 0.549834 0.549834\n",
      "  0.549834]\n",
      " [0.549834 0.549834 0.549834 0.549834 0.549834 0.549834 0.549834 0.549834\n",
      "  0.549834]]\n",
      "(2, 9) (2, 9)\n"
     ]
    }
   ],
   "source": [
    "import numpy as np\n",
    "import numpy as pd\n",
    "\n",
    "def sigmoid(x):\n",
    "    return 1/(1+np.exp(-x))\n",
    "\n",
    "\n",
    "x = np.array([[1,0.85,0.76,1],\n",
    "              [1,0,0.24,1],\n",
    "              [0,0.625,0.84,1],\n",
    "              [0,0.45,0.96,1],\n",
    "              [1,0.225,0.46,1],\n",
    "              [0,0.25,0.7,1],\n",
    "              [1,0.7,0.44,1],\n",
    "              [0,0.3,0.4,1],\n",
    "              [0,0.125,0.66,1]])\n",
    "\n",
    "y = np.array([[1,0],\n",
    "             [0,1],\n",
    "             [1,0],\n",
    "             [1,0],\n",
    "             [0,1],\n",
    "             [0,1],\n",
    "             [1,0],\n",
    "             [0,1],\n",
    "             [1,0]])\n",
    "\n",
    "# x1 = sex , x2 = age, x3 = income, x4 = bias\n",
    "x= x.T\n",
    "print(x.shape)\n",
    "x_weight = np.zeros([2,4])\n",
    "print(x_weight)\n",
    "print(\"input layer x :\")\n",
    "print(x)\n",
    "h_weight = np.array([[0.1,0.1,0.1],\n",
    "                     [0.1,0.1,0.1]])\n",
    "\n",
    "\n",
    "\n",
    "# hidden layer\n",
    "z_x = x_weight.dot(x)\n",
    "print(z_x)\n",
    "print(\"hidden layer h : \")\n",
    "h = sigmoid(z_x)\n",
    "h = np.vstack((h,np.ones([1,9])))\n",
    "print(h)\n",
    "print(h.shape)\n",
    "\n",
    "\n",
    "# output layer\n",
    "z_h = h_weight.dot(h)\n",
    "print(z_h)\n",
    "o = sigmoid(z_h)\n",
    "print(o)\n",
    "print(z_h.shape,o.shape)"
   ]
  },
  {
   "cell_type": "code",
   "execution_count": 161,
   "metadata": {
    "scrolled": true
   },
   "outputs": [
    {
     "name": "stdout",
     "output_type": "stream",
     "text": [
      "(2, 9)\n",
      "(2, 9)\n",
      "(2, 9) (9, 2) (2, 9)\n",
      "[[ 0.02549125 -0.4695419 ]\n",
      " [ 0.02549125 -0.4695419 ]\n",
      " [ 0.02549125 -0.4695419 ]\n",
      " [ 0.02549125 -0.4695419 ]\n",
      " [ 0.02549125 -0.4695419 ]\n",
      " [ 0.02549125 -0.4695419 ]\n",
      " [ 0.02549125 -0.4695419 ]\n",
      " [ 0.02549125 -0.4695419 ]\n",
      " [ 0.02549125 -0.4695419 ]]\n",
      "[[0.1 0.1 0.1]\n",
      " [0.1 0.1 0.1]]\n",
      "(9, 2) (2, 3) (9, 3) (3, 9)\n",
      "[[-0.04440506 -0.04440506 -0.04440506]\n",
      " [-0.04440506 -0.04440506 -0.04440506]\n",
      " [-0.04440506 -0.04440506 -0.04440506]\n",
      " [-0.04440506 -0.04440506 -0.04440506]\n",
      " [-0.04440506 -0.04440506 -0.04440506]\n",
      " [-0.04440506 -0.04440506 -0.04440506]\n",
      " [-0.04440506 -0.04440506 -0.04440506]\n",
      " [-0.04440506 -0.04440506 -0.04440506]\n",
      " [-0.04440506 -0.04440506 -0.04440506]]\n"
     ]
    }
   ],
   "source": [
    "print(y.T.shape)\n",
    "print(o.shape)\n",
    "\n",
    "print((y.T-o).shape,o.T.shape,(1-o).shape)\n",
    "h_delta = (y.T-o).dot(o.T).dot(1-o)\n",
    "print(h_delta.T)\n",
    "print(h_weight)\n",
    "print(h_delta.T.shape,h_weight.shape,h.T.shape,(1-h).shape)\n",
    "print(h_delta.T.dot(h_weight))\n"
   ]
  },
  {
   "cell_type": "code",
   "execution_count": 282,
   "metadata": {},
   "outputs": [
    {
     "name": "stdout",
     "output_type": "stream",
     "text": [
      "(9,) (2, 9) (3, 9)\n",
      "[0.11471062 0.11471062 0.22942124]\n"
     ]
    },
    {
     "data": {
      "text/plain": [
       "array([[0.5, 0.5, 0.5, 0.5, 0.5, 0.5, 0.5, 0.5, 0.5],\n",
       "       [0.5, 0.5, 0.5, 0.5, 0.5, 0.5, 0.5, 0.5, 0.5]])"
      ]
     },
     "execution_count": 282,
     "metadata": {},
     "output_type": "execute_result"
    }
   ],
   "source": [
    "print((y.T[0]-o[0]).shape,o.shape,h.shape)\n",
    "print((y.T[0]-o[0]).dot(o.T).dot(1-o).dot(h.T))\n",
    "h[:2]"
   ]
  },
  {
   "cell_type": "code",
   "execution_count": 287,
   "metadata": {},
   "outputs": [
    {
     "data": {
      "text/plain": [
       "array([[ 0.02549125,  0.02549125,  0.02549125,  0.02549125,  0.02549125,\n",
       "         0.02549125,  0.02549125,  0.02549125,  0.02549125],\n",
       "       [-0.4695419 , -0.4695419 , -0.4695419 , -0.4695419 , -0.4695419 ,\n",
       "        -0.4695419 , -0.4695419 , -0.4695419 , -0.4695419 ]])"
      ]
     },
     "execution_count": 287,
     "metadata": {},
     "output_type": "execute_result"
    }
   ],
   "source": [
    "# h_delta\n",
    "h_delta = (y.T-o).dot(o.T).dot(1-o)\n",
    "h_delta"
   ]
  },
  {
   "cell_type": "code",
   "execution_count": 438,
   "metadata": {},
   "outputs": [],
   "source": [
    "temps =(y.T-o).dot(o.T).dot(1-o).T.dot(h_weight[:,:2])\n"
   ]
  },
  {
   "cell_type": "code",
   "execution_count": 439,
   "metadata": {},
   "outputs": [
    {
     "data": {
      "text/plain": [
       "array([[-0.19982279, -0.19982279, -0.19982279, -0.19982279, -0.19982279,\n",
       "        -0.19982279, -0.19982279, -0.19982279, -0.19982279],\n",
       "       [-0.19982279, -0.19982279, -0.19982279, -0.19982279, -0.19982279,\n",
       "        -0.19982279, -0.19982279, -0.19982279, -0.19982279]])"
      ]
     },
     "execution_count": 439,
     "metadata": {},
     "output_type": "execute_result"
    }
   ],
   "source": [
    "x_delta = temps.T.dot(h[:2].T).dot((1-h[:2]))\n",
    "x_delta "
   ]
  },
  {
   "cell_type": "code",
   "execution_count": 441,
   "metadata": {},
   "outputs": [
    {
     "data": {
      "text/plain": [
       "array([[ 0.11471062,  0.11471062,  0.22942124],\n",
       "       [-2.11293853, -2.11293853, -4.22587707]])"
      ]
     },
     "execution_count": 441,
     "metadata": {},
     "output_type": "execute_result"
    }
   ],
   "source": [
    "h_delta.dot(h.T)"
   ]
  },
  {
   "cell_type": "code",
   "execution_count": 416,
   "metadata": {},
   "outputs": [
    {
     "data": {
      "text/plain": [
       "array([[ 0.21471062,  0.21471062,  0.32942124],\n",
       "       [-2.01293853, -2.01293853, -4.12587707]])"
      ]
     },
     "execution_count": 416,
     "metadata": {},
     "output_type": "execute_result"
    }
   ],
   "source": [
    "h_weight_update = h_weight + h_delta.dot(h.T)\n",
    "h_weight_update"
   ]
  },
  {
   "cell_type": "code",
   "execution_count": 419,
   "metadata": {},
   "outputs": [
    {
     "data": {
      "text/plain": [
       "(array([[-0.79929117, -0.70437534, -1.09103244, -1.79840512],\n",
       "        [-0.79929117, -0.70437534, -1.09103244, -1.79840512]]),\n",
       " array([[-0.79929117, -0.70437534, -1.09103244, -1.79840512],\n",
       "        [-0.79929117, -0.70437534, -1.09103244, -1.79840512]]))"
      ]
     },
     "execution_count": 419,
     "metadata": {},
     "output_type": "execute_result"
    }
   ],
   "source": [
    "x_weight_update = x_weight + x_delta.dot(x.T)\n",
    "x_weight_update, x_delta.dot(x.T)"
   ]
  },
  {
   "cell_type": "code",
   "execution_count": null,
   "metadata": {},
   "outputs": [],
   "source": []
  }
 ],
 "metadata": {
  "kernelspec": {
   "display_name": "Python 3",
   "language": "python",
   "name": "python3"
  },
  "language_info": {
   "codemirror_mode": {
    "name": "ipython",
    "version": 3
   },
   "file_extension": ".py",
   "mimetype": "text/x-python",
   "name": "python",
   "nbconvert_exporter": "python",
   "pygments_lexer": "ipython3",
   "version": "3.7.3"
  }
 },
 "nbformat": 4,
 "nbformat_minor": 2
}

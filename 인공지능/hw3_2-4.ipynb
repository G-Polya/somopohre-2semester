{
 "cells": [
  {
   "cell_type": "code",
   "execution_count": 2,
   "metadata": {},
   "outputs": [
    {
     "name": "stdout",
     "output_type": "stream",
     "text": [
      "x:\n",
      "[[ 1.     1.     0.85   0.76 ]\n",
      " [ 1.     1.     0.    24.   ]\n",
      " [ 1.     0.     0.625  0.84 ]\n",
      " [ 1.     0.     0.45   0.96 ]\n",
      " [ 1.     1.     0.225  0.46 ]\n",
      " [ 1.     0.     0.25   0.7  ]\n",
      " [ 1.     1.     0.7    0.44 ]\n",
      " [ 1.     0.     0.3    0.4  ]\n",
      " [ 1.     0.     0.125  0.66 ]]\n",
      "(9, 4)\n",
      "\n",
      "y:\n",
      "[1. 0. 1. 1. 0. 0. 1. 0. 1.]\n",
      "(9,)\n",
      "\n",
      "w:\n",
      "[0. 0. 0. 0.]\n",
      "(4,)\n"
     ]
    }
   ],
   "source": [
    "# 2-1\n",
    "import numpy as np\n",
    "\n",
    "# 2-1번\n",
    "x = np.array([[1,1,0.85,0.76],\n",
    "              [1,1,0,0.24],\n",
    "              [1,0,0.625,0.84],\n",
    "              [1,0,0.45,0.96],\n",
    "              [1,1,0.225,0.46],\n",
    "              [1,0,0.25,0.7],\n",
    "              [1,1,0.7,0.44],\n",
    "              [1,0,0.3,0.4],\n",
    "              [1,0,0.125,0.66]])\n",
    "\n",
    "y = np.array([1.0,0.0,1.0,1.0,0.0,0.0,1.0,0.0,1.0])\n",
    "w = np.array([0.0,0.0,0.0,0.0])\n",
    "print(\"x:\")\n",
    "print(x)\n",
    "print(x.shape)\n",
    "print()\n",
    "\n",
    "print(\"y:\")\n",
    "print(y)\n",
    "print(y.shape)\n",
    "print()\n",
    "\n",
    "print(\"w:\")\n",
    "print(w)\n",
    "print(w.shape)"
   ]
  },
  {
   "cell_type": "code",
   "execution_count": 3,
   "metadata": {},
   "outputs": [
    {
     "name": "stdout",
     "output_type": "stream",
     "text": [
      "처음 추정값:  [0.5 0.5 0.5 0.5 0.5 0.5 0.5 0.5 0.5]\n",
      "\n",
      "초기 에러 :  0.25\n",
      "\n",
      "[ 0.5 -0.5  0.5  0.5 -0.5 -0.5  0.5 -0.5  0.5]\n",
      "\n",
      "업데이트 된 w :  [ 0.00555556  0.          0.01097222 -0.12166667]\n",
      "\n",
      "업데이트 된 추정값 : \n",
      "[0.48061354 0.05144412 0.47756837 0.47344826 0.4880167  0.48079244\n",
      " 0.48992706 0.49004645 0.481665  ]\n",
      "\n",
      "업데이트 후 eror :  0.22899034658412315\n"
     ]
    }
   ],
   "source": [
    "# 2-2번\n",
    "\n",
    "# sigmoid \n",
    "def sigmoid(x):\n",
    "    return 1/(1+np.exp(-x))\n",
    "\n",
    "# 추정값 y_hat\n",
    "y_hat = sigmoid(w.dot(x.T))\n",
    "print(\"처음 추정값: \",y_hat)\n",
    "print()\n",
    "\n",
    "# 초기 평균 에러\n",
    "first_error = (1/9) * (y-y_hat).dot((y-y_hat).T)\n",
    "print(\"초기 에러 : \",first_error)\n",
    "print()\n",
    "\n",
    "# 잔차\n",
    "print(y-y_hat)\n",
    "print()\n",
    "\n",
    "# 1회 시행의 w update\n",
    "w_update = w + (0.1 / 9) * (y-y_hat).dot(x)\n",
    "print(\"업데이트 된 w : \",w_update)\n",
    "print()\n",
    "\n",
    "# 업데이트된 y_hat\n",
    "y_hat_update = sigmoid(w_update.dot(x.T))\n",
    "print(\"업데이트 된 추정값 : \",)\n",
    "print(y_hat_update)\n",
    "print()\n",
    "\n",
    "# 업데이트된 평균에러\n",
    "error_update = (1/9) * (y-y_hat_update).dot((y-y_hat_update).T)\n",
    "print(\"업데이트 후 error : \",error_update)"
   ]
  },
  {
   "cell_type": "code",
   "execution_count": 4,
   "metadata": {},
   "outputs": [
    {
     "name": "stdout",
     "output_type": "stream",
     "text": [
      "0.4864581736551051\n",
      "\n",
      "kim vote : -\n"
     ]
    }
   ],
   "source": [
    "# 2-3번\n",
    "\n",
    "kim_data = np.array([1,1,0.1,0.5])\n",
    "p = sigmoid(w_update.dot(kim_data.T))\n",
    "print(p)\n",
    "print()\n",
    "if p >= 0.5:\n",
    "    print(\"kim vote : +\")\n",
    "else:\n",
    "    print(\"kim vote : -\")"
   ]
  },
  {
   "cell_type": "code",
   "execution_count": null,
   "metadata": {},
   "outputs": [],
   "source": []
  },
  {
   "cell_type": "code",
   "execution_count": null,
   "metadata": {},
   "outputs": [],
   "source": []
  }
 ],
 "metadata": {
  "kernelspec": {
   "display_name": "Python 3",
   "language": "python",
   "name": "python3"
  },
  "language_info": {
   "codemirror_mode": {
    "name": "ipython",
    "version": 3
   },
   "file_extension": ".py",
   "mimetype": "text/x-python",
   "name": "python",
   "nbconvert_exporter": "python",
   "pygments_lexer": "ipython3",
   "version": "3.7.3"
  }
 },
 "nbformat": 4,
 "nbformat_minor": 2
}

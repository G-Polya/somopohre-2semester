{
 "cells": [
  {
   "cell_type": "code",
   "execution_count": 107,
   "metadata": {},
   "outputs": [
    {
     "name": "stdout",
     "output_type": "stream",
     "text": [
      "distance : \n",
      "[[1.01 ]\n",
      " [0.36 ]\n",
      " [1.365]\n",
      " [1.31 ]\n",
      " [0.165]\n",
      " [0.85 ]\n",
      " [0.66 ]\n",
      " [0.8  ]\n",
      " [0.685]]\n",
      "sorted distance : \n",
      "[[0.165]\n",
      " [0.36 ]\n",
      " [0.66 ]\n",
      " [0.685]\n",
      " [0.8  ]\n",
      " [0.85 ]\n",
      " [1.01 ]\n",
      " [1.31 ]\n",
      " [1.365]]\n",
      "data : \n",
      "[[1.000e+00 5.400e+01 3.800e+03 1.000e+00 1.010e+00]\n",
      " [1.000e+00 2.000e+01 1.200e+03 0.000e+00 3.600e-01]\n",
      " [0.000e+00 4.500e+01 4.200e+03 1.000e+00 1.365e+00]\n",
      " [0.000e+00 3.800e+01 4.800e+03 1.000e+00 1.310e+00]\n",
      " [1.000e+00 2.900e+01 2.300e+03 0.000e+00 1.650e-01]\n",
      " [0.000e+00 3.000e+01 3.500e+03 0.000e+00 8.500e-01]\n",
      " [1.000e+00 4.800e+01 2.200e+03 1.000e+00 6.600e-01]\n",
      " [0.000e+00 3.200e+01 2.000e+03 0.000e+00 8.000e-01]\n",
      " [0.000e+00 2.500e+01 3.300e+03 1.000e+00 6.850e-01]]\n",
      "sorted_data : \n",
      "[[1.000e+00 2.900e+01 2.300e+03 0.000e+00 1.650e-01]\n",
      " [1.000e+00 2.000e+01 1.200e+03 0.000e+00 3.600e-01]\n",
      " [1.000e+00 4.800e+01 2.200e+03 1.000e+00 6.600e-01]\n",
      " [0.000e+00 2.500e+01 3.300e+03 1.000e+00 6.850e-01]\n",
      " [0.000e+00 3.200e+01 2.000e+03 0.000e+00 8.000e-01]\n",
      " [0.000e+00 3.000e+01 3.500e+03 0.000e+00 8.500e-01]\n",
      " [1.000e+00 5.400e+01 3.800e+03 1.000e+00 1.010e+00]\n",
      " [0.000e+00 3.800e+01 4.800e+03 1.000e+00 1.310e+00]\n",
      " [0.000e+00 4.500e+01 4.200e+03 1.000e+00 1.365e+00]]\n"
     ]
    },
    {
     "data": {
      "image/png": "[encoded data removed]",
      "text/plain": [
       "<Figure size 432x288 with 1 Axes>"
      ]
     },
     "metadata": {
      "needs_background": "light"
     },
     "output_type": "display_data"
    },
    {
     "name": "stdout",
     "output_type": "stream",
     "text": [
      "weight_sum :  [10.35353535]\n",
      "[0. 0. 1. 1. 0. 0. 1. 1. 1.]\n",
      "weight :  [6.06060606] , Vote :  0.0\n",
      "weight :  [2.77777778] , Vote :  0.0\n",
      "weight :  [1.51515152] , Vote :  1.0\n",
      "Y 0.14634146341463417\n",
      "Kim(1,24,2500) vote - \n"
     ]
    }
   ],
   "source": [
    "import numpy as np\n",
    "import matplotlib.pyplot as plt\n",
    "\n",
    "\n",
    "def Distance(a, b):\n",
    "    return (abs(a[0]- b[0]) / 2) + (abs(a[1] - b[1])/40) + (abs(a[2]-b[2])/5000)\n",
    "\n",
    "\n",
    "\n",
    "data = np.array([[1,54,3800,1],\n",
    "                 [1,20,1200,0],\n",
    "                 [0,45,4200,1],\n",
    "                 [0,38,4800,1],\n",
    "                 [1,29,2300,0],\n",
    "                 [0,30,3500,0],\n",
    "                 [1,48,2200,1],\n",
    "                 [0,32,2000,0],\n",
    "                 [0,25,3300,1]])\n",
    "\n",
    "\n",
    "\n",
    "kim= np.array([1,24,2500])\n",
    "\n",
    "# compute distance\n",
    "distance = list()\n",
    "for d in data:\n",
    "    distance.append(Distance(d,kim))\n",
    "    \n",
    "    \n",
    "distance = np.array(distance)  \n",
    "distance = distance.reshape(-1,1)\n",
    "print(\"distance : \")\n",
    "print(distance)\n",
    "\n",
    "sorted_distance = np.sort(distance,axis = 0)\n",
    "\n",
    "print(\"sorted distance : \")\n",
    "print(sorted_distance)\n",
    "\n",
    "data = np.hstack((data,distance))\n",
    "\n",
    "print(\"data : \")\n",
    "print(data)\n",
    "\n",
    "\n",
    "sorted_data = np.array(sorted(data,key=lambda x : x[4]))\n",
    "print(\"sorted_data : \")\n",
    "print(sorted_data)\n",
    "\n",
    "x = sorted_distance\n",
    "y = sorted_data.T[3]\n",
    "\n",
    "plt.scatter(x,y,s=50)\n",
    "\n",
    "plt.show()\n",
    "# distance-weighted\n",
    "weight = 1 / sorted_distance\n",
    "\n",
    "\n",
    "weight_sum = 0.0\n",
    "for i in range(3):\n",
    "    weight_sum += weight[i]\n",
    "print(\"weight_sum : \",weight_sum)\n",
    "\n",
    "print(sorted_data.T[3])\n",
    "\n",
    "Y = 0.0\n",
    "for i in range(3):\n",
    "    print(\"weight : \",weight[i],\", Vote : \",sorted_data.T[3][i])\n",
    "    Y = np.sum((weight[i] / weight_sum) * sorted_data.T[3][i]) \n",
    "\n",
    "\n",
    "print(\"Y\",Y)\n",
    "if Y < 0.5:\n",
    "    print(\"Kim(1,24,2500) vote - \")\n",
    "else:\n",
    "    print(\"Kim(1,24,2500) vote + \")"
   ]
  },
  {
   "cell_type": "code",
   "execution_count": null,
   "metadata": {},
   "outputs": [],
   "source": []
  },
  {
   "cell_type": "code",
   "execution_count": 41,
   "metadata": {},
   "outputs": [
    {
     "ename": "ValueError",
     "evalue": "Unknown projection '3d'",
     "output_type": "error",
     "traceback": [
      "\u001b[1;31m---------------------------------------------------------------------------\u001b[0m",
      "\u001b[1;31mKeyError\u001b[0m                                  Traceback (most recent call last)",
      "\u001b[1;32mD:\\Anaconda\\lib\\site-packages\\matplotlib\\projections\\__init__.py\u001b[0m in \u001b[0;36mget_projection_class\u001b[1;34m(projection)\u001b[0m\n\u001b[0;32m     57\u001b[0m     \u001b[1;32mtry\u001b[0m\u001b[1;33m:\u001b[0m\u001b[1;33m\u001b[0m\u001b[1;33m\u001b[0m\u001b[0m\n\u001b[1;32m---> 58\u001b[1;33m         \u001b[1;32mreturn\u001b[0m \u001b[0mprojection_registry\u001b[0m\u001b[1;33m.\u001b[0m\u001b[0mget_projection_class\u001b[0m\u001b[1;33m(\u001b[0m\u001b[0mprojection\u001b[0m\u001b[1;33m)\u001b[0m\u001b[1;33m\u001b[0m\u001b[1;33m\u001b[0m\u001b[0m\n\u001b[0m\u001b[0;32m     59\u001b[0m     \u001b[1;32mexcept\u001b[0m \u001b[0mKeyError\u001b[0m\u001b[1;33m:\u001b[0m\u001b[1;33m\u001b[0m\u001b[1;33m\u001b[0m\u001b[0m\n",
      "\u001b[1;32mD:\\Anaconda\\lib\\site-packages\\matplotlib\\projections\\__init__.py\u001b[0m in \u001b[0;36mget_projection_class\u001b[1;34m(self, name)\u001b[0m\n\u001b[0;32m     24\u001b[0m         \"\"\"\n\u001b[1;32m---> 25\u001b[1;33m         \u001b[1;32mreturn\u001b[0m \u001b[0mself\u001b[0m\u001b[1;33m.\u001b[0m\u001b[0m_all_projection_types\u001b[0m\u001b[1;33m[\u001b[0m\u001b[0mname\u001b[0m\u001b[1;33m]\u001b[0m\u001b[1;33m\u001b[0m\u001b[1;33m\u001b[0m\u001b[0m\n\u001b[0m\u001b[0;32m     26\u001b[0m \u001b[1;33m\u001b[0m\u001b[0m\n",
      "\u001b[1;31mKeyError\u001b[0m: '3d'",
      "\nDuring handling of the above exception, another exception occurred:\n",
      "\u001b[1;31mValueError\u001b[0m                                Traceback (most recent call last)",
      "\u001b[1;32m<ipython-input-41-0a16e4138f93>\u001b[0m in \u001b[0;36m<module>\u001b[1;34m\u001b[0m\n\u001b[0;32m      1\u001b[0m \u001b[1;31m# 여기는 그냥 심심해서 해본것...\u001b[0m\u001b[1;33m\u001b[0m\u001b[1;33m\u001b[0m\u001b[1;33m\u001b[0m\u001b[0m\n\u001b[0;32m      2\u001b[0m \u001b[0mfig\u001b[0m \u001b[1;33m=\u001b[0m \u001b[0mplt\u001b[0m\u001b[1;33m.\u001b[0m\u001b[0mfigure\u001b[0m\u001b[1;33m(\u001b[0m\u001b[1;33m)\u001b[0m\u001b[1;33m\u001b[0m\u001b[1;33m\u001b[0m\u001b[0m\n\u001b[1;32m----> 3\u001b[1;33m \u001b[0max\u001b[0m \u001b[1;33m=\u001b[0m \u001b[0mfig\u001b[0m\u001b[1;33m.\u001b[0m\u001b[0mgca\u001b[0m\u001b[1;33m(\u001b[0m\u001b[0mprojection\u001b[0m\u001b[1;33m=\u001b[0m\u001b[1;34m'3d'\u001b[0m\u001b[1;33m)\u001b[0m\u001b[1;33m\u001b[0m\u001b[1;33m\u001b[0m\u001b[0m\n\u001b[0m\u001b[0;32m      4\u001b[0m \u001b[1;33m\u001b[0m\u001b[0m\n\u001b[0;32m      5\u001b[0m \u001b[0mreshaped_data\u001b[0m \u001b[1;33m=\u001b[0m \u001b[0mdata\u001b[0m\u001b[1;33m.\u001b[0m\u001b[0mT\u001b[0m\u001b[1;33m\u001b[0m\u001b[1;33m\u001b[0m\u001b[0m\n",
      "\u001b[1;32mD:\\Anaconda\\lib\\site-packages\\matplotlib\\figure.py\u001b[0m in \u001b[0;36mgca\u001b[1;34m(self, **kwargs)\u001b[0m\n\u001b[0;32m   1930\u001b[0m \u001b[1;33m\u001b[0m\u001b[0m\n\u001b[0;32m   1931\u001b[0m         \u001b[1;31m# no axes found, so create one which spans the figure\u001b[0m\u001b[1;33m\u001b[0m\u001b[1;33m\u001b[0m\u001b[1;33m\u001b[0m\u001b[0m\n\u001b[1;32m-> 1932\u001b[1;33m         \u001b[1;32mreturn\u001b[0m \u001b[0mself\u001b[0m\u001b[1;33m.\u001b[0m\u001b[0madd_subplot\u001b[0m\u001b[1;33m(\u001b[0m\u001b[1;36m1\u001b[0m\u001b[1;33m,\u001b[0m \u001b[1;36m1\u001b[0m\u001b[1;33m,\u001b[0m \u001b[1;36m1\u001b[0m\u001b[1;33m,\u001b[0m \u001b[1;33m**\u001b[0m\u001b[0mkwargs\u001b[0m\u001b[1;33m)\u001b[0m\u001b[1;33m\u001b[0m\u001b[1;33m\u001b[0m\u001b[0m\n\u001b[0m\u001b[0;32m   1933\u001b[0m \u001b[1;33m\u001b[0m\u001b[0m\n\u001b[0;32m   1934\u001b[0m     \u001b[1;32mdef\u001b[0m \u001b[0msca\u001b[0m\u001b[1;33m(\u001b[0m\u001b[0mself\u001b[0m\u001b[1;33m,\u001b[0m \u001b[0ma\u001b[0m\u001b[1;33m)\u001b[0m\u001b[1;33m:\u001b[0m\u001b[1;33m\u001b[0m\u001b[1;33m\u001b[0m\u001b[0m\n",
      "\u001b[1;32mD:\\Anaconda\\lib\\site-packages\\matplotlib\\figure.py\u001b[0m in \u001b[0;36madd_subplot\u001b[1;34m(self, *args, **kwargs)\u001b[0m\n\u001b[0;32m   1394\u001b[0m         \u001b[1;32melse\u001b[0m\u001b[1;33m:\u001b[0m\u001b[1;33m\u001b[0m\u001b[1;33m\u001b[0m\u001b[0m\n\u001b[0;32m   1395\u001b[0m             \u001b[0mprojection_class\u001b[0m\u001b[1;33m,\u001b[0m \u001b[0mkwargs\u001b[0m\u001b[1;33m,\u001b[0m \u001b[0mkey\u001b[0m \u001b[1;33m=\u001b[0m\u001b[0;31m \u001b[0m\u001b[0;31m\\\u001b[0m\u001b[1;33m\u001b[0m\u001b[1;33m\u001b[0m\u001b[0m\n\u001b[1;32m-> 1396\u001b[1;33m                 \u001b[0mself\u001b[0m\u001b[1;33m.\u001b[0m\u001b[0m_process_projection_requirements\u001b[0m\u001b[1;33m(\u001b[0m\u001b[1;33m*\u001b[0m\u001b[0margs\u001b[0m\u001b[1;33m,\u001b[0m \u001b[1;33m**\u001b[0m\u001b[0mkwargs\u001b[0m\u001b[1;33m)\u001b[0m\u001b[1;33m\u001b[0m\u001b[1;33m\u001b[0m\u001b[0m\n\u001b[0m\u001b[0;32m   1397\u001b[0m \u001b[1;33m\u001b[0m\u001b[0m\n\u001b[0;32m   1398\u001b[0m             \u001b[1;31m# try to find the axes with this key in the stack\u001b[0m\u001b[1;33m\u001b[0m\u001b[1;33m\u001b[0m\u001b[1;33m\u001b[0m\u001b[0m\n",
      "\u001b[1;32mD:\\Anaconda\\lib\\site-packages\\matplotlib\\figure.py\u001b[0m in \u001b[0;36m_process_projection_requirements\u001b[1;34m(self, polar, projection, *args, **kwargs)\u001b[0m\n\u001b[0;32m   1118\u001b[0m \u001b[1;33m\u001b[0m\u001b[0m\n\u001b[0;32m   1119\u001b[0m         \u001b[1;32mif\u001b[0m \u001b[0misinstance\u001b[0m\u001b[1;33m(\u001b[0m\u001b[0mprojection\u001b[0m\u001b[1;33m,\u001b[0m \u001b[0mstr\u001b[0m\u001b[1;33m)\u001b[0m \u001b[1;32mor\u001b[0m \u001b[0mprojection\u001b[0m \u001b[1;32mis\u001b[0m \u001b[1;32mNone\u001b[0m\u001b[1;33m:\u001b[0m\u001b[1;33m\u001b[0m\u001b[1;33m\u001b[0m\u001b[0m\n\u001b[1;32m-> 1120\u001b[1;33m             \u001b[0mprojection_class\u001b[0m \u001b[1;33m=\u001b[0m \u001b[0mprojections\u001b[0m\u001b[1;33m.\u001b[0m\u001b[0mget_projection_class\u001b[0m\u001b[1;33m(\u001b[0m\u001b[0mprojection\u001b[0m\u001b[1;33m)\u001b[0m\u001b[1;33m\u001b[0m\u001b[1;33m\u001b[0m\u001b[0m\n\u001b[0m\u001b[0;32m   1121\u001b[0m         \u001b[1;32melif\u001b[0m \u001b[0mhasattr\u001b[0m\u001b[1;33m(\u001b[0m\u001b[0mprojection\u001b[0m\u001b[1;33m,\u001b[0m \u001b[1;34m'_as_mpl_axes'\u001b[0m\u001b[1;33m)\u001b[0m\u001b[1;33m:\u001b[0m\u001b[1;33m\u001b[0m\u001b[1;33m\u001b[0m\u001b[0m\n\u001b[0;32m   1122\u001b[0m             \u001b[0mprojection_class\u001b[0m\u001b[1;33m,\u001b[0m \u001b[0mextra_kwargs\u001b[0m \u001b[1;33m=\u001b[0m \u001b[0mprojection\u001b[0m\u001b[1;33m.\u001b[0m\u001b[0m_as_mpl_axes\u001b[0m\u001b[1;33m(\u001b[0m\u001b[1;33m)\u001b[0m\u001b[1;33m\u001b[0m\u001b[1;33m\u001b[0m\u001b[0m\n",
      "\u001b[1;32mD:\\Anaconda\\lib\\site-packages\\matplotlib\\projections\\__init__.py\u001b[0m in \u001b[0;36mget_projection_class\u001b[1;34m(projection)\u001b[0m\n\u001b[0;32m     58\u001b[0m         \u001b[1;32mreturn\u001b[0m \u001b[0mprojection_registry\u001b[0m\u001b[1;33m.\u001b[0m\u001b[0mget_projection_class\u001b[0m\u001b[1;33m(\u001b[0m\u001b[0mprojection\u001b[0m\u001b[1;33m)\u001b[0m\u001b[1;33m\u001b[0m\u001b[1;33m\u001b[0m\u001b[0m\n\u001b[0;32m     59\u001b[0m     \u001b[1;32mexcept\u001b[0m \u001b[0mKeyError\u001b[0m\u001b[1;33m:\u001b[0m\u001b[1;33m\u001b[0m\u001b[1;33m\u001b[0m\u001b[0m\n\u001b[1;32m---> 60\u001b[1;33m         \u001b[1;32mraise\u001b[0m \u001b[0mValueError\u001b[0m\u001b[1;33m(\u001b[0m\u001b[1;34m\"Unknown projection %r\"\u001b[0m \u001b[1;33m%\u001b[0m \u001b[0mprojection\u001b[0m\u001b[1;33m)\u001b[0m\u001b[1;33m\u001b[0m\u001b[1;33m\u001b[0m\u001b[0m\n\u001b[0m\u001b[0;32m     61\u001b[0m \u001b[1;33m\u001b[0m\u001b[0m\n\u001b[0;32m     62\u001b[0m \u001b[1;33m\u001b[0m\u001b[0m\n",
      "\u001b[1;31mValueError\u001b[0m: Unknown projection '3d'"
     ]
    },
    {
     "data": {
      "text/plain": [
       "<Figure size 432x288 with 0 Axes>"
      ]
     },
     "metadata": {},
     "output_type": "display_data"
    }
   ],
   "source": [
    "\n",
    "# 여기는 그냥 심심해서 해본것...\n",
    "fig = plt.figure()\n",
    "ax = fig.gca(projection='3d')\n",
    "\n",
    "reshaped_data = data.T\n",
    "print(reshaped_data)\n",
    "X = reshaped_data[0]\n",
    "Y = reshaped_data[1]\n",
    "Z = reshaped_data[2]\n",
    "\n",
    "ax.scatter(X,Y,Z,s= 50)\n",
    "ax.scatter(new_data[0],new_data[1],new_data[2], color = \"red\",s = 50)\n",
    "ax.set_xlabel(\"Sex\")\n",
    "ax.set_ylabel(\"Age\")\n",
    "ax.set_zlabel(\"Income\")\n",
    "\n",
    "plt.show()"
   ]
  },
  {
   "cell_type": "code",
   "execution_count": null,
   "metadata": {},
   "outputs": [],
   "source": []
  },
  {
   "cell_type": "code",
   "execution_count": null,
   "metadata": {},
   "outputs": [],
   "source": []
  }
 ],
 "metadata": {
  "kernelspec": {
   "display_name": "Python 3",
   "language": "python",
   "name": "python3"
  },
  "language_info": {
   "codemirror_mode": {
    "name": "ipython",
    "version": 3
   },
   "file_extension": ".py",
   "mimetype": "text/x-python",
   "name": "python",
   "nbconvert_exporter": "python",
   "pygments_lexer": "ipython3",
   "version": "3.7.3"
  }
 },
 "nbformat": 4,
 "nbformat_minor": 2
}
